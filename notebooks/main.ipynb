{
 "cells": [
  {
   "cell_type": "code",
   "execution_count": 1,
   "metadata": {},
   "outputs": [],
   "source": [
    "import tensorflow as tf"
   ]
  },
  {
   "cell_type": "code",
   "execution_count": null,
   "metadata": {},
   "outputs": [],
   "source": [
    "IMG_WIDTH = 128\n",
    "IMG_HEIGHT = 128\n",
    "IMG_CHANNELS = 3"
   ]
  },
  {
   "cell_type": "code",
   "execution_count": null,
   "metadata": {},
   "outputs": [],
   "source": [
    "# Build the model\n",
    "# input layer\n",
    "inputs = tf.keras.layers.Input((IMG_WIDTH, IMG_HEIGHT, IMG_CHANNELS))\n",
    "\n",
    "# Convert inputs from 0-255 inegers to floating decimals\n",
    "s = tf.keras.layers.Lambda(lambda x: x /255)(inputs) \n",
    "\n",
    "# Contraction Path\n",
    "# c1 layer\n",
    "c1 = tf.keras.layers.Conv2D(16, (3,3), activation= \"relu\", kernel_initializer= \"he_normal\", padding= \"same\")(inputs)\n",
    "# Add dropout before moviing on.  Drop 10%\n",
    "c1 = tf.keras.Dropout(0.1)(c1)\n",
    "c1 = tf.keras.layers.Conv2D(16, (3,3), activation= \"relu\", kernel_initializer= \"he_normal\", padding= \"same\")(c1)\n",
    "# Close with a Max Pooling layer\n",
    "p1 = tf.keras.layers.MaxPooling2D((2,2))(c1)\n",
    "\n",
    "\n",
    "# c2 layer\n",
    "c2 = tf.keras.layers.Conv2D(16, (3,3), activation= \"relu\", kernel_initializer= \"he_normal\", padding= \"same\")(c1)\n",
    "# Add dropout before moviing on.  Drop 10%\n",
    "c2 = tf.keras.Dropout(0.1)(c2)\n",
    "c2 = tf.keras.layers.Conv2D(16, (3,3), activation= \"relu\", kernel_initializer= \"he_normal\", padding= \"same\")(c2)\n",
    "# Close with a Max Pooling layer\n",
    "p2 = tf.keras.layers.MaxPooling2D((2,2))(c2)\n",
    "\n",
    "# c3 layer\n",
    "c3 = tf.keras.layers.Conv2D(16, (3,3), activation= \"relu\", kernel_initializer= \"he_normal\", padding= \"same\")(c2)\n",
    "# Add dropout before moviing on.  Drop 10%\n",
    "c3= tf.keras.Dropout(0.1)(c3)\n",
    "c3 = tf.keras.layers.Conv2D(16, (3,3), activation= \"relu\", kernel_initializer= \"he_normal\", padding= \"same\")(c3)\n",
    "# Close with a Max Pooling layer\n",
    "p3 = tf.keras.layers.MaxPooling2D((2,2))(c3)\n",
    "\n",
    "# c4 layer\n",
    "c4 = tf.keras.layers.Conv2D(16, (3,3), activation= \"relu\", kernel_initializer= \"he_normal\", padding= \"same\")(c3)\n",
    "# Add dropout before moviing on.  Drop 10%\n",
    "c4 = tf.keras.Dropout(0.1)(c3)\n",
    "c4 = tf.keras.layers.Conv2D(16, (3,3), activation= \"relu\", kernel_initializer= \"he_normal\", padding= \"same\")(c4)\n",
    "# Close with a Max Pooling layer\n",
    "p3 = tf.keras.layers.MaxPooling2D((2,2))(c4)\n",
    "\n",
    "# c5 layer\n",
    "c5 = tf.keras.layers.Conv2D(16, (3,3), activation= \"relu\", kernel_initializer= \"he_normal\", padding= \"same\")(c4)\n",
    "# Add dropout before moviing on.  Drop 10%\n",
    "c5 = tf.keras.Dropout(0.1)(c5)\n",
    "c5 = tf.keras.layers.Conv2D(16, (3,3), activation= \"relu\", kernel_initializer= \"he_normal\", padding= \"same\")(c5)\n",
    "\n",
    "\n",
    "# Expansion Path\n",
    "# u6 layer\n",
    "u6 = tf.keras.ayers.Conv@DTranspose(128, (2, 2), strides= (2, 2), padding= \"same\")(c5)\n",
    "# Concatenate from the mirrored contraction layer\n",
    "u6 = tf.keras.layers.concatenate([u6, c4])\n",
    "c6 = tf.keras.layers.Conv2D(128, (3,3), activation = \"relu\", kernel_initializer= \"he_normal\", padding= \"same\")(u6)"
   ]
  }
 ],
 "metadata": {
  "kernelspec": {
   "display_name": "venv",
   "language": "python",
   "name": "python3"
  },
  "language_info": {
   "codemirror_mode": {
    "name": "ipython",
    "version": 3
   },
   "file_extension": ".py",
   "mimetype": "text/x-python",
   "name": "python",
   "nbconvert_exporter": "python",
   "pygments_lexer": "ipython3",
   "version": "3.12.2"
  }
 },
 "nbformat": 4,
 "nbformat_minor": 2
}
