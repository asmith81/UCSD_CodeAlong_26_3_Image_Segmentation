{
 "cells": [
  {
   "cell_type": "code",
   "execution_count": null,
   "metadata": {},
   "outputs": [],
   "source": [
    "import tensorflow as tf\n",
    "import tensorflow.keras"
   ]
  },
  {
   "cell_type": "code",
   "execution_count": null,
   "metadata": {},
   "outputs": [],
   "source": [
    "IMG_WIDTH = 128\n",
    "IMG_HEIGHT = 128\n",
    "IMG_CHANNELS = 3"
   ]
  },
  {
   "cell_type": "code",
   "execution_count": null,
   "metadata": {},
   "outputs": [],
   "source": [
    "# Build the model\n",
    "# input layer\n",
    "inputs = tf.keras.layers.Input((IMG_WIDTH, IMG_HEIGHT, IMG_CHANNELS))\n",
    "\n",
    "# Convert inputs from 0-255 inegers to floating decimals\n",
    "s = tf.keras.layers.Lambda(lambda x: x /255)(inputs) \n",
    "\n",
    "# c1 layer\n",
    "c1 = tf.keras.layers.Conv2D(16, (3,3), activation= \"relu\", kernel_initializer= \"he_normal\", padding= \"same\")(inputs)\n",
    "# Add dropout before moviing on.  Drop 10%\n",
    "c1 = tf.keras.Dropout(0.1)(c1)\n",
    "c1 = tf.keras.layers.Conv2D(16, (3,3), activation= \"relu\", kernel_initializer= \"he_normal\", padding= \"same\")(c1)\n",
    "# Close with a Max Pooling layer\n",
    "p1 = tf.keras.layers.MaxPooling2D((2,2))(c1)\n",
    "\n"
   ]
  }
 ],
 "metadata": {
  "language_info": {
   "name": "python"
  }
 },
 "nbformat": 4,
 "nbformat_minor": 2
}
